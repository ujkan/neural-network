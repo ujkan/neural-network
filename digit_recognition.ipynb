{
 "cells": [
  {
   "cell_type": "code",
   "execution_count": 1,
   "metadata": {},
   "outputs": [],
   "source": [
    "from src import neural_net"
   ]
  },
  {
   "cell_type": "code",
   "execution_count": 2,
   "metadata": {},
   "outputs": [],
   "source": [
    "NCONST = 60000 # 60000 is the MAX number of training images"
   ]
  },
  {
   "cell_type": "code",
   "execution_count": 3,
   "metadata": {},
   "outputs": [],
   "source": [
    "def processFiles():\n",
    "    labelsFile = open(\"data/train-labels-idx1-ubyte\", \"rb\")\n",
    "    labelsFile.seek(8)\n",
    "    imagesFile = open(\"data/train-images-idx3-ubyte\", \"rb\")\n",
    "    imagesFile.seek(16)\n",
    "    labels = []\n",
    "    images = []\n",
    "    for i in range(NCONST):\n",
    "        label = int.from_bytes(labelsFile.read(1), byteorder=\"big\")\n",
    "        labels.append(label)\n",
    "\n",
    "        img = imagesFile.read(784)\n",
    "        images.append([b/255 for b in img])\n",
    "    return images, labels"
   ]
  },
  {
   "cell_type": "code",
   "execution_count": 4,
   "metadata": {},
   "outputs": [],
   "source": [
    "def processTestFiles():\n",
    "    labelsFile = open(\"data/t10k-labels-idx1-ubyte\", \"rb\")\n",
    "    labelsFile.seek(8)\n",
    "    imagesFile = open(\"data/t10k-images-idx3-ubyte\", \"rb\")\n",
    "    imagesFile.seek(16)\n",
    "    labels = []\n",
    "    images = []\n",
    "    for i in range(10000):\n",
    "        label = int.from_bytes(labelsFile.read(1), byteorder=\"big\")\n",
    "        labels.append(label)\n",
    "\n",
    "        img = imagesFile.read(784)\n",
    "        images.append([b/255 for b in img])\n",
    "\n",
    "    return images, labels"
   ]
  },
  {
   "cell_type": "code",
   "execution_count": null,
   "metadata": {},
   "outputs": [],
   "source": [
    "data, labels = processFiles()\n",
    "testdata, testlabels = processTestFiles()"
   ]
  },
  {
   "cell_type": "code",
   "execution_count": null,
   "metadata": {},
   "outputs": [],
   "source": [
    "net = neural_net.Net([784, 16, 16, 10]) # the first and last layers must be 784 and 10"
   ]
  },
  {
   "cell_type": "code",
   "execution_count": null,
   "metadata": {},
   "outputs": [],
   "source": [
    "for l in range(10):\n",
    "    net.train_stochastic(1, 500, 4, data, labels)\n",
    "    net.test(testdata, testlabels)"
   ]
  },
  {
   "cell_type": "code",
   "execution_count": null,
   "metadata": {},
   "outputs": [],
   "source": [
    "for l in range(10):\n",
    "    net.train_stochastic(1, 100, 1, data, labels)\n",
    "    net.test(testdata, testlabels)"
   ]
  },
  {
   "cell_type": "code",
   "execution_count": null,
   "metadata": {},
   "outputs": [],
   "source": [
    "for l in range(10):\n",
    "    net.train_stochastic(1, 100, 0.8, data, labels)\n",
    "    net.test(testdata, testlabels)"
   ]
  },
  {
   "cell_type": "code",
   "execution_count": null,
   "metadata": {},
   "outputs": [],
   "source": [
    "for l in range(10):\n",
    "    net.train_stochastic(1, 30, 1, data, labels)\n",
    "    net.test(testdata,testlabels)"
   ]
  },
  {
   "cell_type": "code",
   "execution_count": null,
   "metadata": {},
   "outputs": [],
   "source": []
  }
 ],
 "metadata": {
  "interpreter": {
   "hash": "1500dfb640e2a8e6486897d8a6c417995a3b8f45f201648a71fba2da02af626a"
  },
  "kernelspec": {
   "display_name": "Python 3 (ipykernel)",
   "language": "python",
   "name": "python3"
  },
  "language_info": {
   "codemirror_mode": {
    "name": "ipython",
    "version": 3
   },
   "file_extension": ".py",
   "mimetype": "text/x-python",
   "name": "python",
   "nbconvert_exporter": "python",
   "pygments_lexer": "ipython3",
   "version": "3.10.1"
  }
 },
 "nbformat": 4,
 "nbformat_minor": 2
}
