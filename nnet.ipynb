{
 "cells": [
  {
   "cell_type": "code",
   "execution_count": 11,
   "metadata": {},
   "outputs": [],
   "source": [
    "import neural_net"
   ]
  },
  {
   "cell_type": "code",
   "execution_count": 22,
   "metadata": {},
   "outputs": [],
   "source": [
    "NCONST = 60000"
   ]
  },
  {
   "cell_type": "code",
   "execution_count": 13,
   "metadata": {},
   "outputs": [],
   "source": [
    "def processFiles():\n",
    "    labelsFile = open(\"/Users/Irfan/Downloads/train-labels-idx1-ubyte\", \"rb\")\n",
    "    labelsFile.seek(8)\n",
    "    imagesFile = open(\"/Users/Irfan/Downloads/train-images-idx3-ubyte\", \"rb\")\n",
    "    imagesFile.seek(16)\n",
    "    labels = []\n",
    "    images = []\n",
    "    for i in range(NCONST):\n",
    "        label = int.from_bytes(labelsFile.read(1), byteorder=\"big\")\n",
    "        #if (i < 3):\n",
    "            #print(label)\n",
    "        labels.append(label)\n",
    "\n",
    "        img = imagesFile.read(784)\n",
    "        images.append([b/255 for b in img])\n",
    "    return images, labels"
   ]
  },
  {
   "cell_type": "code",
   "execution_count": 16,
   "metadata": {},
   "outputs": [],
   "source": [
    "def processTestFiles():\n",
    "    labelsFile = open(\"/Users/Irfan/Downloads/t10k-labels-idx1-ubyte\", \"rb\")\n",
    "    labelsFile.seek(8)\n",
    "    imagesFile = open(\"/Users/Irfan/Downloads/t10k-images-idx3-ubyte\", \"rb\")\n",
    "    imagesFile.seek(16)\n",
    "    labels = []\n",
    "    images = []\n",
    "    for i in range(10000):\n",
    "        label = int.from_bytes(labelsFile.read(1), byteorder=\"big\")\n",
    "        #if (i < 3):\n",
    "            #print(label)\n",
    "        labels.append(label)\n",
    "\n",
    "        img = imagesFile.read(784)\n",
    "        images.append([b/255 for b in img])\n",
    "\n",
    "    return images, labels"
   ]
  },
  {
   "cell_type": "code",
   "execution_count": 23,
   "metadata": {},
   "outputs": [],
   "source": [
    "data, labels = processFiles()\n",
    "testdata, testlabels = processTestFiles()"
   ]
  },
  {
   "cell_type": "code",
   "execution_count": 24,
   "metadata": {},
   "outputs": [],
   "source": [
    "net = neural_net.Net([784, 16, 16, 10])"
   ]
  },
  {
   "cell_type": "code",
   "execution_count": 25,
   "metadata": {},
   "outputs": [
    {
     "name": "stdout",
     "output_type": "stream",
     "text": [
      "ACCURACY:  0.7719\n",
      "ACCURACY:  0.8579\n",
      "ACCURACY:  0.8826\n",
      "ACCURACY:  0.8931\n",
      "ACCURACY:  0.8976\n",
      "ACCURACY:  0.9035\n",
      "ACCURACY:  0.9082\n",
      "ACCURACY:  0.9076\n",
      "ACCURACY:  0.912\n",
      "ACCURACY:  0.9149\n"
     ]
    }
   ],
   "source": [
    "for l in range(10):\n",
    "    net.train_stochastic(1, 200, 4, data, labels)\n",
    "    net.test(testdata, testlabels)"
   ]
  },
  {
   "cell_type": "code",
   "execution_count": 28,
   "metadata": {},
   "outputs": [
    {
     "name": "stdout",
     "output_type": "stream",
     "text": [
      "ACCURACY:  0.9166\n",
      "ACCURACY:  0.9199\n"
     ]
    }
   ],
   "source": [
    "for l in range(10):\n",
    "    net.train_stochastic(1, 100, 1, data, labels)\n",
    "    net.test(testdata, testlabels)"
   ]
  },
  {
   "cell_type": "code",
   "execution_count": null,
   "metadata": {},
   "outputs": [],
   "source": [
    "for l in range(10):\n",
    "    net.train_stochastic(1, 100, 0.8, data, labels)\n",
    "    net.test(testdata, testlabels)"
   ]
  },
  {
   "cell_type": "code",
   "execution_count": null,
   "metadata": {},
   "outputs": [],
   "source": [
    "for l in range(10):\n",
    "    net.train_stochastic(1, 30, 1, data, labels)\n",
    "    net.test(testdata,testlabels)"
   ]
  }
 ],
 "metadata": {
  "interpreter": {
   "hash": "1500dfb640e2a8e6486897d8a6c417995a3b8f45f201648a71fba2da02af626a"
  },
  "kernelspec": {
   "display_name": "Python 3.7.2 64-bit (conda)",
   "language": "python",
   "name": "python3"
  },
  "language_info": {
   "codemirror_mode": {
    "name": "ipython",
    "version": 3
   },
   "file_extension": ".py",
   "mimetype": "text/x-python",
   "name": "python",
   "nbconvert_exporter": "python",
   "pygments_lexer": "ipython3",
   "version": "3.7.2"
  },
  "orig_nbformat": 4
 },
 "nbformat": 4,
 "nbformat_minor": 2
}
